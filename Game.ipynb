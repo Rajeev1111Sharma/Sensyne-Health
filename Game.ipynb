{
 "cells": [
  {
   "cell_type": "code",
   "execution_count": null,
   "metadata": {},
   "outputs": [
    {
     "name": "stdout",
     "output_type": "stream",
     "text": [
      "*** GAME STARTED ****\n",
      "\n",
      "\n"
     ]
    },
    {
     "name": "stdin",
     "output_type": "stream",
     "text": [
      "Enter Your Name : sdd\n"
     ]
    },
    {
     "name": "stdout",
     "output_type": "stream",
     "text": [
      "SDD\n",
      "Guess the word !  _ \n",
      "\n"
     ]
    }
   ],
   "source": [
    "import random\n",
    "f = open(\"data.txt\", \"r\")\n",
    "words=f.read()\n",
    "guess = words[random.randint(0, len(words)-1)].upper()\n",
    "display = []\n",
    "for x in guess:\n",
    "    display.append(\"_\")\n",
    "print(\"*** GAME STARTED ****\")\n",
    "print(\"\")\n",
    "print(\"\")\n",
    "user_named = input(\"Enter Your Name :\").upper()\n",
    "print(user_named)\n",
    "print(\"Guess the word ! \", end=\" \")\n",
    "indexes = []\n",
    "limbs = 6\n",
    "userWon = False\n",
    "userLost = False\n",
    "guessedLetters = []\n",
    "def start(word, indexes, display, limbs, userWon, userLost, guessedLetters):\n",
    "    chance = False  # to stop recursion\n",
    "    wrong_guess = False\n",
    "    word_found = \"\"  # change it to True or False based on word found in the word array\n",
    "    if userLost == False:\n",
    "        if len(indexes) > 0:  # check on recursion if user entered any correct letter\n",
    "            for val in indexes:\n",
    "                # loop to change \"_\" with the correct letter in array\n",
    "                display[val] = word[val]\n",
    "        if len(guessedLetters) > 0:\n",
    "            # display how many limbs left\n",
    "            print(\"You have \", limbs, \" chances left\")\n",
    "            print(\"\")\n",
    "            print(\"Wrong Guesses\", guessedLetters)\n",
    "            print(\"\")\n",
    "        for dash in display:\n",
    "            # print the display of \"_\" or the correct letter in the array\n",
    "            print(dash, end=\" \")\n",
    "        print(\"\")\n",
    "        print(\"\")\n",
    "        user_guessed = input(\n",
    "            \"Guess by entering a letter or the complete word to win!: \").upper()\n",
    "        if len(user_guessed) == 1:  # if user entered only a letter\n",
    "            word_found = False\n",
    "            for i in range(len(word)):  # to get the index of word array\n",
    "                if(word[i] == user_guessed):  # match every single letter\n",
    "                    if i in indexes:  # if user already guessed correct letter\n",
    "                        print(\"You already guessed the letter \", word[i])\n",
    "                        chance = True\n",
    "                        word_found = True\n",
    "                        break\n",
    "                    else:\n",
    "                        indexes.append(i)\n",
    "                        print(\"Nice guess it was \", word[i])\n",
    "                        word_found = True\n",
    "        elif len(user_guessed) > 1:  # if used tried to guess by a word\n",
    "            if(word == user_guessed):\n",
    "                print(\"You won !\")\n",
    "                print(\"The correct word was \", word)\n",
    "                userWon = True\n",
    "            else:\n",
    "                wrong_guess = True\n",
    "        if user_guessed in guessedLetters:  # if user guessed wrong again with the same word/letter\n",
    "            print(\"You already tried \", user_guessed)\n",
    "            chance = True\n",
    "        elif wrong_guess == True or word_found == False:  # when user guessed wrong reduce limbs\n",
    "            guessedLetters.append(user_guessed)\n",
    "            print(\"Eh, Wrong guess\")\n",
    "            limbs -= 1\n",
    "            if limbs == 0:\n",
    "                userLost = True\n",
    "            else:  # when limbs are not 0 user can still play with chance = true\n",
    "                chance = True\n",
    "        if chance == True:\n",
    "            start(word, indexes, display, limbs,\n",
    "                  userWon, userLost, guessedLetters)\n",
    "            chance = False  # to stop recursion :X \n",
    "        elif len(indexes) > 0 and userWon == False and userLost == False and chance == False:\n",
    "            if len(indexes) == len(word):  # if user guessed all letters\n",
    "                print(\"Woah, You won ! :)\")\n",
    "                print(\"The correct word was \", word)\n",
    "            else:\n",
    "                start(word, indexes, display, limbs,\n",
    "                      userWon, userLost, guessedLetters)\n",
    "        elif userLost == True:  # all limbs are 0 so user lost\n",
    "            print(\"You have \", limbs, \" chances left\")\n",
    "            print(\"Sorry, You lost :(\")\n",
    "            print(\"The correct word was \", word)\n",
    "\n",
    "\n",
    "start(guess, indexes, display, limbs, userWon, userLost, guessedLetters)"
   ]
  },
  {
   "cell_type": "code",
   "execution_count": null,
   "metadata": {},
   "outputs": [],
   "source": []
  },
  {
   "cell_type": "code",
   "execution_count": null,
   "metadata": {},
   "outputs": [],
   "source": []
  }
 ],
 "metadata": {
  "kernelspec": {
   "display_name": "Python 3",
   "language": "python",
   "name": "python3"
  },
  "language_info": {
   "codemirror_mode": {
    "name": "ipython",
    "version": 3
   },
   "file_extension": ".py",
   "mimetype": "text/x-python",
   "name": "python",
   "nbconvert_exporter": "python",
   "pygments_lexer": "ipython3",
   "version": "3.7.3"
  }
 },
 "nbformat": 4,
 "nbformat_minor": 2
}
